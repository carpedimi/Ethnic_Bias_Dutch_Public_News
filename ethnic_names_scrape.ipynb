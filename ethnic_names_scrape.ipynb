{
 "cells": [
  {
   "cell_type": "code",
   "execution_count": 58,
   "metadata": {},
   "outputs": [],
   "source": [
    "# Specify imports needed for scraping code\n",
    "import requests\n",
    "from requests import get\n",
    "from bs4 import BeautifulSoup\n",
    "import pandas as pd"
   ]
  },
  {
   "cell_type": "markdown",
   "metadata": {},
   "source": [
    "This notebook provides the scraping of the most common ethnic names per country.\n",
    "After succeeded, the countries most popular names are written to csv 'ethnic_name_list.csv'"
   ]
  },
  {
   "cell_type": "code",
   "execution_count": 59,
   "metadata": {},
   "outputs": [],
   "source": [
    "country_urls = [str('https://forebears.io/' + i + '/forenames') for i in ['netherlands', 'italy', 'greece', 'iran', 'morocco', 'turkey', 'suriname', 'syria', 'somalia', 'afghanistan']]"
   ]
  },
  {
   "cell_type": "code",
   "execution_count": 60,
   "metadata": {},
   "outputs": [],
   "source": [
    "import requests\n",
    "from bs4 import BeautifulSoup\n",
    "\n",
    "ethnic_names = {}\n",
    "headers = {'User-Agent': 'Mozilla/5.0 (Macintosh; Intel Mac OS X 10_15_7) AppleWebKit/537.36 (KHTML, like Gecko) Chrome/102.0.0.0 Safari/537.36'}\n",
    "\n",
    "for url in country_urls:\n",
    "\n",
    "    url = url\n",
    "    source = requests.get(url, headers=headers).text\n",
    "    soup = BeautifulSoup(source, 'html.parser')\n",
    "    ethnic_names[url.split('/')[-2]] = []\n",
    "    for a in soup.find_all('a', href=True):\n",
    "        if 'forenames/' in str(a['href']):\n",
    "            ethnic_names[url.split('/')[-2]].append(a['href'].split('forenames/')[1])\n"
   ]
  },
  {
   "cell_type": "code",
   "execution_count": 61,
   "metadata": {},
   "outputs": [],
   "source": [
    "pd.DataFrame(ethnic_names.items(), columns=['Country', 'NameList']).to_csv('ethnic_name_list.csv')"
   ]
  },
  {
   "cell_type": "code",
   "execution_count": 62,
   "metadata": {},
   "outputs": [],
   "source": [
    "x = pd.read_csv('ethnic_name_list.csv')"
   ]
  },
  {
   "cell_type": "code",
   "execution_count": 52,
   "metadata": {},
   "outputs": [],
   "source": [
    "x['len'] = x['NameList'].apply(lambda col: len(eval(col)))"
   ]
  },
  {
   "cell_type": "code",
   "execution_count": 53,
   "metadata": {},
   "outputs": [
    {
     "data": {
      "text/html": [
       "<div>\n",
       "<style scoped>\n",
       "    .dataframe tbody tr th:only-of-type {\n",
       "        vertical-align: middle;\n",
       "    }\n",
       "\n",
       "    .dataframe tbody tr th {\n",
       "        vertical-align: top;\n",
       "    }\n",
       "\n",
       "    .dataframe thead th {\n",
       "        text-align: right;\n",
       "    }\n",
       "</style>\n",
       "<table border=\"1\" class=\"dataframe\">\n",
       "  <thead>\n",
       "    <tr style=\"text-align: right;\">\n",
       "      <th></th>\n",
       "      <th>Unnamed: 0</th>\n",
       "      <th>Country</th>\n",
       "      <th>NameList</th>\n",
       "      <th>len</th>\n",
       "    </tr>\n",
       "  </thead>\n",
       "  <tbody>\n",
       "    <tr>\n",
       "      <th>0</th>\n",
       "      <td>0</td>\n",
       "      <td>iran</td>\n",
       "      <td>['most-popular', 'mohammad', 'fatemeh', 'zahra...</td>\n",
       "      <td>1001</td>\n",
       "    </tr>\n",
       "    <tr>\n",
       "      <th>1</th>\n",
       "      <td>1</td>\n",
       "      <td>morocco</td>\n",
       "      <td>['most-popular', 'mohamed', 'mohammed', 'fatim...</td>\n",
       "      <td>503</td>\n",
       "    </tr>\n",
       "    <tr>\n",
       "      <th>2</th>\n",
       "      <td>2</td>\n",
       "      <td>turkey</td>\n",
       "      <td>['most-popular', 'mehmet', 'fatma', 'mustafa',...</td>\n",
       "      <td>1001</td>\n",
       "    </tr>\n",
       "    <tr>\n",
       "      <th>3</th>\n",
       "      <td>3</td>\n",
       "      <td>surinam</td>\n",
       "      <td>['most-popular']</td>\n",
       "      <td>1</td>\n",
       "    </tr>\n",
       "    <tr>\n",
       "      <th>4</th>\n",
       "      <td>4</td>\n",
       "      <td>syria</td>\n",
       "      <td>['most-popular', 'mohamed', 'ahmed', 'abdel', ...</td>\n",
       "      <td>620</td>\n",
       "    </tr>\n",
       "    <tr>\n",
       "      <th>5</th>\n",
       "      <td>5</td>\n",
       "      <td>somalia</td>\n",
       "      <td>['most-popular', 'mohamed', 'abdi', 'ahmed', '...</td>\n",
       "      <td>322</td>\n",
       "    </tr>\n",
       "    <tr>\n",
       "      <th>6</th>\n",
       "      <td>6</td>\n",
       "      <td>afghan</td>\n",
       "      <td>['most-popular']</td>\n",
       "      <td>1</td>\n",
       "    </tr>\n",
       "  </tbody>\n",
       "</table>\n",
       "</div>"
      ],
      "text/plain": [
       "   Unnamed: 0  Country                                           NameList  \\\n",
       "0           0     iran  ['most-popular', 'mohammad', 'fatemeh', 'zahra...   \n",
       "1           1  morocco  ['most-popular', 'mohamed', 'mohammed', 'fatim...   \n",
       "2           2   turkey  ['most-popular', 'mehmet', 'fatma', 'mustafa',...   \n",
       "3           3  surinam                                   ['most-popular']   \n",
       "4           4    syria  ['most-popular', 'mohamed', 'ahmed', 'abdel', ...   \n",
       "5           5  somalia  ['most-popular', 'mohamed', 'abdi', 'ahmed', '...   \n",
       "6           6   afghan                                   ['most-popular']   \n",
       "\n",
       "    len  \n",
       "0  1001  \n",
       "1   503  \n",
       "2  1001  \n",
       "3     1  \n",
       "4   620  \n",
       "5   322  \n",
       "6     1  "
      ]
     },
     "execution_count": 53,
     "metadata": {},
     "output_type": "execute_result"
    }
   ],
   "source": [
    "x"
   ]
  }
 ],
 "metadata": {
  "interpreter": {
   "hash": "40d3a090f54c6569ab1632332b64b2c03c39dcf918b08424e98f38b5ae0af88f"
  },
  "kernelspec": {
   "display_name": "Python 3.8.3 ('base')",
   "language": "python",
   "name": "python3"
  },
  "language_info": {
   "codemirror_mode": {
    "name": "ipython",
    "version": 3
   },
   "file_extension": ".py",
   "mimetype": "text/x-python",
   "name": "python",
   "nbconvert_exporter": "python",
   "pygments_lexer": "ipython3",
   "version": "3.8.3"
  },
  "orig_nbformat": 4
 },
 "nbformat": 4,
 "nbformat_minor": 2
}
